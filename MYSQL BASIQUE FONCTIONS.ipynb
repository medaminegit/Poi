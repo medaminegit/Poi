{
 "cells": [
  {
   "cell_type": "markdown",
   "id": "35ac6c48",
   "metadata": {},
   "source": [
    "### SUPPRIMER UNE TABLE :"
   ]
  },
  {
   "cell_type": "code",
   "execution_count": null,
   "id": "12a1ff05",
   "metadata": {},
   "outputs": [],
   "source": [
    "sql = \"DELETE FROM test\""
   ]
  },
  {
   "cell_type": "code",
   "execution_count": null,
   "id": "0995809b",
   "metadata": {},
   "outputs": [],
   "source": [
    "cursor.execute(sql)"
   ]
  },
  {
   "cell_type": "code",
   "execution_count": null,
   "id": "a212cdad",
   "metadata": {},
   "outputs": [],
   "source": [
    "cnx.commit()"
   ]
  },
  {
   "cell_type": "code",
   "execution_count": null,
   "id": "73144e0c",
   "metadata": {},
   "outputs": [],
   "source": [
    "cursor.close()\n",
    "cnx.close()"
   ]
  },
  {
   "cell_type": "markdown",
   "id": "e90f6697",
   "metadata": {},
   "source": [
    "### SUPPRIMER UNE COLONNE D'UNE TABLE"
   ]
  },
  {
   "cell_type": "code",
   "execution_count": null,
   "id": "e511c7c5",
   "metadata": {},
   "outputs": [],
   "source": [
    "del_reg = \"ALTER TABLE poi DROP description;\""
   ]
  },
  {
   "cell_type": "code",
   "execution_count": null,
   "id": "8790768f",
   "metadata": {},
   "outputs": [],
   "source": [
    "cursor.execute(del_reg)"
   ]
  },
  {
   "cell_type": "code",
   "execution_count": null,
   "id": "9de0095b",
   "metadata": {},
   "outputs": [],
   "source": [
    "cnx.commit()"
   ]
  },
  {
   "cell_type": "code",
   "execution_count": null,
   "id": "cd900bcf",
   "metadata": {},
   "outputs": [],
   "source": [
    "cursor.close()\n",
    "cnx.close()"
   ]
  },
  {
   "cell_type": "markdown",
   "id": "8b7c5dff",
   "metadata": {},
   "source": [
    "### AJOUTER UNE COLONNE DANS UNE TABLE : "
   ]
  },
  {
   "cell_type": "code",
   "execution_count": null,
   "id": "f03898ac",
   "metadata": {},
   "outputs": [],
   "source": [
    "add = \"ALTER TABLE poi ADD description VARCHAR(21844);\""
   ]
  },
  {
   "cell_type": "code",
   "execution_count": null,
   "id": "f083faba",
   "metadata": {},
   "outputs": [],
   "source": [
    "cursor.execute(add)"
   ]
  },
  {
   "cell_type": "code",
   "execution_count": null,
   "id": "f987886f",
   "metadata": {},
   "outputs": [],
   "source": [
    "cnx.commit()"
   ]
  },
  {
   "cell_type": "code",
   "execution_count": null,
   "id": "6aad437c",
   "metadata": {},
   "outputs": [],
   "source": [
    "cursor.close()\n",
    "cnx.close()"
   ]
  },
  {
   "cell_type": "markdown",
   "id": "856a0590",
   "metadata": {},
   "source": [
    "### MODIFIER UNE LE NOM D'UNE COLONNE "
   ]
  },
  {
   "cell_type": "code",
   "execution_count": null,
   "id": "424d3275",
   "metadata": {},
   "outputs": [],
   "source": [
    "modif = \"ALTER TABLE poi CHANGE date_modification date_fin DATE;\""
   ]
  },
  {
   "cell_type": "code",
   "execution_count": null,
   "id": "9650b793",
   "metadata": {},
   "outputs": [],
   "source": [
    "cursor.execute(modif)"
   ]
  },
  {
   "cell_type": "code",
   "execution_count": null,
   "id": "21ac88f0",
   "metadata": {},
   "outputs": [],
   "source": [
    "cnx.commit()"
   ]
  },
  {
   "cell_type": "code",
   "execution_count": null,
   "id": "9c7d893e",
   "metadata": {},
   "outputs": [],
   "source": [
    "cursor.close()\n",
    "cnx.close()"
   ]
  },
  {
   "cell_type": "markdown",
   "id": "017101d1",
   "metadata": {},
   "source": [
    "### SUPPRIMER UNE TABLE"
   ]
  },
  {
   "cell_type": "code",
   "execution_count": null,
   "id": "646696fd",
   "metadata": {},
   "outputs": [],
   "source": [
    "drop_poi = \"DROP TABLE poi;\""
   ]
  },
  {
   "cell_type": "code",
   "execution_count": null,
   "id": "4803a97a",
   "metadata": {},
   "outputs": [],
   "source": [
    "cursor.execute(drop_poi)"
   ]
  },
  {
   "cell_type": "code",
   "execution_count": null,
   "id": "77c10afc",
   "metadata": {},
   "outputs": [],
   "source": [
    "cnx.commit()"
   ]
  },
  {
   "cell_type": "code",
   "execution_count": null,
   "id": "7db07aac",
   "metadata": {},
   "outputs": [],
   "source": [
    "cursor.close()\n",
    "cnx.close()"
   ]
  },
  {
   "cell_type": "markdown",
   "id": "81081872",
   "metadata": {},
   "source": [
    "### SUPPRIMER LE CONTENUE D'UNE TABLE"
   ]
  },
  {
   "cell_type": "code",
   "execution_count": null,
   "id": "fa73b88a",
   "metadata": {},
   "outputs": [],
   "source": [
    "supp = \"DELETE FROM poi;\""
   ]
  },
  {
   "cell_type": "code",
   "execution_count": null,
   "id": "08d1eb6d",
   "metadata": {},
   "outputs": [],
   "source": [
    "cursor.execute(supp)"
   ]
  },
  {
   "cell_type": "code",
   "execution_count": null,
   "id": "f1a70862",
   "metadata": {},
   "outputs": [],
   "source": [
    "cnx.commit()"
   ]
  },
  {
   "cell_type": "code",
   "execution_count": null,
   "id": "b5bb52e6",
   "metadata": {},
   "outputs": [],
   "source": [
    "cursor.close()\n",
    "cnx.close()"
   ]
  },
  {
   "cell_type": "markdown",
   "id": "7ec0d6ca",
   "metadata": {},
   "source": [
    "### REINIT ID"
   ]
  },
  {
   "cell_type": "code",
   "execution_count": null,
   "id": "036f8597",
   "metadata": {},
   "outputs": [],
   "source": [
    "idreinit= \"ALTER TABLE poi AUTO_INCREMENT = 1;\"\n",
    "cursor.execute(idreinit)"
   ]
  },
  {
   "cell_type": "code",
   "execution_count": null,
   "id": "a0eff79e",
   "metadata": {},
   "outputs": [],
   "source": [
    "cnx.commit()"
   ]
  },
  {
   "cell_type": "code",
   "execution_count": null,
   "id": "7d31c0ea",
   "metadata": {},
   "outputs": [],
   "source": [
    "cursor.close()\n",
    "cnx.close()"
   ]
  },
  {
   "cell_type": "markdown",
   "id": "be42b86d",
   "metadata": {},
   "source": [
    "### CHANGER LE TYPE D'UNE COLONNE"
   ]
  },
  {
   "cell_type": "code",
   "execution_count": null,
   "id": "1718b6ae",
   "metadata": {},
   "outputs": [],
   "source": [
    "changecol= \"ALTER TABLE poi CHANGE description description VARCHAR(1000);\""
   ]
  },
  {
   "cell_type": "code",
   "execution_count": null,
   "id": "d82098e4",
   "metadata": {},
   "outputs": [],
   "source": [
    "cursor.execute(changecol)"
   ]
  },
  {
   "cell_type": "code",
   "execution_count": null,
   "id": "cd34179d",
   "metadata": {},
   "outputs": [],
   "source": [
    "cnx.commit()"
   ]
  },
  {
   "cell_type": "code",
   "execution_count": null,
   "id": "ff8ae657",
   "metadata": {},
   "outputs": [],
   "source": [
    "cursor.close()\n",
    "cnx.close()"
   ]
  },
  {
   "cell_type": "markdown",
   "id": "8ef75a72",
   "metadata": {},
   "source": [
    "### CREER UNE TABLE "
   ]
  },
  {
   "cell_type": "code",
   "execution_count": null,
   "id": "624897a0",
   "metadata": {},
   "outputs": [],
   "source": [
    "create_poi =\\\n",
    "\"CREATE TABLE poi (\\\n",
    "    id                MEDIUMINT NOT NULL AUTO_INCREMENT,\\\n",
    "    libele            VARCHAR(100),\\\n",
    "    lien              VARCHAR(150) NOT NULL,\\\n",
    "    classement        INTEGER,\\\n",
    "    contact           VARCHAR(300),\\\n",
    "    description       VARCHAR(500),\\\n",
    "    date_modification DATE,\\\n",
    "    localisation_id   INTEGER NOT NULL,\\\n",
    "    PRIMARY KEY (id)\\\n",
    ")ENGINE=INNODB;\""
   ]
  },
  {
   "cell_type": "code",
   "execution_count": null,
   "id": "6c68950a",
   "metadata": {},
   "outputs": [],
   "source": [
    "cursor.execute(poi)"
   ]
  },
  {
   "cell_type": "code",
   "execution_count": null,
   "id": "293df57f",
   "metadata": {},
   "outputs": [],
   "source": [
    "cnx.commit()"
   ]
  },
  {
   "cell_type": "code",
   "execution_count": null,
   "id": "956ef893",
   "metadata": {},
   "outputs": [],
   "source": [
    "cursor.close()\n",
    "cnx.close()"
   ]
  }
 ],
 "metadata": {
  "kernelspec": {
   "display_name": "Python 3 (ipykernel)",
   "language": "python",
   "name": "python3"
  },
  "language_info": {
   "codemirror_mode": {
    "name": "ipython",
    "version": 3
   },
   "file_extension": ".py",
   "mimetype": "text/x-python",
   "name": "python",
   "nbconvert_exporter": "python",
   "pygments_lexer": "ipython3",
   "version": "3.9.12"
  }
 },
 "nbformat": 4,
 "nbformat_minor": 5
}
