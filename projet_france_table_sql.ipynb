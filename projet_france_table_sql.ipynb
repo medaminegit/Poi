{
 "cells": [
  {
   "cell_type": "markdown",
   "id": "776e3e06",
   "metadata": {},
   "source": [
    "### Connexion à mysql server"
   ]
  },
  {
   "cell_type": "code",
   "execution_count": null,
   "id": "17df6529",
   "metadata": {},
   "outputs": [],
   "source": [
    "import mysql\n",
    "import mysql.connector"
   ]
  },
  {
   "cell_type": "code",
   "execution_count": null,
   "id": "eae10229",
   "metadata": {},
   "outputs": [],
   "source": [
    "user = 'poi'\n",
    "passw = '&QwtyCEZ53#XJ&1&D9SG7tq9d'\n",
    "host =  '54.195.243.32'\n",
    "database = 'poi'"
   ]
  },
  {
   "cell_type": "code",
   "execution_count": null,
   "id": "3cb57204",
   "metadata": {},
   "outputs": [],
   "source": [
    "cnx = mysql.connector.connect(\n",
    "  host=host,\n",
    "  user=user,\n",
    "  password=passw,\n",
    "  database=database\n",
    ")"
   ]
  },
  {
   "cell_type": "code",
   "execution_count": null,
   "id": "7cd97c01",
   "metadata": {},
   "outputs": [],
   "source": [
    "cursor= cnx.cursor()"
   ]
  },
  {
   "cell_type": "markdown",
   "id": "835528f8",
   "metadata": {},
   "source": [
    "### Transfert donnees de dataframe vers table poi"
   ]
  },
  {
   "cell_type": "code",
   "execution_count": null,
   "id": "9999e6d5",
   "metadata": {},
   "outputs": [],
   "source": [
    "for index, row in data_graph.iterrows():\n",
    "    date_fin = row.date_de_fin\n",
    "    ville = row.ville\n",
    "    latitude = row.latitude\n",
    "    longitude = row.longitude\n",
    "    adresse = row.adresse\n",
    "    description = row.description\n",
    "    data=(date_fin, ville, latitude, longitude, adresse, description)\n",
    "    requete = (\"INSERT INTO poi (date_fin, ville, latitude, longitude, adresse, description) VALUES (%s,%s,%s,%s,%s,%s)\")\n",
    "    cursor.execute(requete, data)\n",
    "    poi_id=cursor.lastrowid\n",
    "    print(poi_id,\":\",date_fin, ville, latitude, longitude, adresse)\n",
    "    cnx.commit()"
   ]
  },
  {
   "cell_type": "code",
   "execution_count": null,
   "id": "2013edce",
   "metadata": {},
   "outputs": [],
   "source": [
    "cursor.close()\n",
    "cnx.close()"
   ]
  },
  {
   "cell_type": "markdown",
   "id": "f0bdb9cf",
   "metadata": {},
   "source": [
    "### Transfert donnees de dataframe vers table ville"
   ]
  },
  {
   "cell_type": "code",
   "execution_count": null,
   "id": "e3011cbe",
   "metadata": {},
   "outputs": [],
   "source": [
    "ville = pd.read_csv(\"projet_info_comm.csv\")\n",
    "ville.head(1)"
   ]
  },
  {
   "cell_type": "code",
   "execution_count": null,
   "id": "84599cc3",
   "metadata": {},
   "outputs": [],
   "source": [
    "for index, row in ville.iterrows():\n",
    "    code_insee = row.Code INSEE\n",
    "    code_postal = row.Code Postal\n",
    "    latitude = row.Latitude\n",
    "    longitude = row.Longitude\n",
    "    commune = row.Commune\n",
    "    code_departement = row.Code Département\n",
    "    \n",
    "    data=(code_insee,code_postal,latitude,longitude,commune,code_departement)\n",
    "    requete = (\"INSERT INTO poi (code_insee,code_postal,latitude,longitude,commune,code_departement) VALUES (%s,%s,%s,%s,%s,%s)\")\n",
    "    cursor.execute(requete, data)\n",
    "    ville_id=cursor.lastrowid\n",
    "    print(ville_id,\":\",code_insee,code_postal,latitude,longitude,commune,code_departement)\n",
    "    cnx.commit()"
   ]
  },
  {
   "cell_type": "code",
   "execution_count": null,
   "id": "5ae8594e",
   "metadata": {},
   "outputs": [],
   "source": [
    "cursor.close()\n",
    "cnx.close()"
   ]
  },
  {
   "cell_type": "markdown",
   "id": "899fd029",
   "metadata": {},
   "source": [
    "### Transfert donnees de dataframe vers table departement"
   ]
  },
  {
   "cell_type": "code",
   "execution_count": null,
   "id": "edc3ee53",
   "metadata": {},
   "outputs": [],
   "source": [
    "departement = pd.read_csv(\"projet_info_departement.csv\")\n",
    "departement.head(1)"
   ]
  },
  {
   "cell_type": "code",
   "execution_count": null,
   "id": "a4d367dd",
   "metadata": {},
   "outputs": [],
   "source": [
    "for index, row in departement.iterrows():\n",
    "    code_insee = row.code_insee\n",
    "    region = row.region\n",
    "    \n",
    "    data=(code_insee,region)\n",
    "    requete = (\"INSERT INTO poi (code_insee,regiont) VALUES (%s,%s,%s,%s,%s,%s)\")\n",
    "    cursor.execute(requete, data)\n",
    "    ville_id=cursor.lastrowid\n",
    "    print(ville_id,\":\",code_insee,code_postal,latitude,longitude,commune,code_departement)\n",
    "    cnx.commit()"
   ]
  },
  {
   "cell_type": "code",
   "execution_count": null,
   "id": "ea46c6b5",
   "metadata": {},
   "outputs": [],
   "source": [
    "cursor.close()\n",
    "cnx.close()"
   ]
  },
  {
   "cell_type": "markdown",
   "id": "9352fb8b",
   "metadata": {},
   "source": [
    "### Transfert donnees de dataframe vers table région"
   ]
  },
  {
   "cell_type": "code",
   "execution_count": null,
   "id": "9cb63448",
   "metadata": {},
   "outputs": [],
   "source": [
    "region = pd.read_csv(\"projet_info_region.csv\")\n",
    "region.head(2)"
   ]
  },
  {
   "cell_type": "code",
   "execution_count": null,
   "id": "09d6273a",
   "metadata": {},
   "outputs": [],
   "source": [
    "for index, row in region.iterrows():\n",
    "    code_insee = row.code_insee\t\n",
    "    region = row.region\n",
    "        \n",
    "    data=(code_insee,region)\n",
    "    requete = (\"INSERT INTO poi (code_insee,region) VALUES (%s,%s)\")\n",
    "    cursor.execute(requete, data)\n",
    "    region_id=cursor.lastrowid\n",
    "    print(region_id,\":\",code_insee,region)\n",
    "    cnx.commit()"
   ]
  }
 ],
 "metadata": {
  "kernelspec": {
   "display_name": "Python 3 (ipykernel)",
   "language": "python",
   "name": "python3"
  },
  "language_info": {
   "codemirror_mode": {
    "name": "ipython",
    "version": 3
   },
   "file_extension": ".py",
   "mimetype": "text/x-python",
   "name": "python",
   "nbconvert_exporter": "python",
   "pygments_lexer": "ipython3",
   "version": "3.9.12"
  }
 },
 "nbformat": 4,
 "nbformat_minor": 5
}
